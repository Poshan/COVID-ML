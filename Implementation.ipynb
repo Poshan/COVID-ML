{
 "cells": [
  {
   "cell_type": "markdown",
   "metadata": {},
   "source": [
    "## Preprocessing\n",
    "Compute the shifted cases, neighbor cases and cumulative cases"
   ]
  },
  {
   "cell_type": "code",
   "execution_count": null,
   "metadata": {},
   "outputs": [],
   "source": [
    "from modules.config import Config\n",
    "config = Config()\n",
    "\n",
    "COVID_DATA = config.config['data']['covid_data']\n",
    "GEOMETRY = config.config['data']['geometry']\n",
    "PREPROCESSED = config.config['data']['preprocessed']\n",
    "MOBILITY_DIR = config.config['data']['mobility_dir']\n",
    "CYL_COVID_PATH = config.config['data']['cyl_covid_path']\n",
    "COMPUTED = config.config['data']['computed']\n",
    "\n",
    "LAG_DAYS_PREPROCESS = config.config['constants']['lag_days_preprocess']\n",
    "LAG_DAYS_COMPUTATION = config.config['constants']['lag_days_computation']\n",
    "RANDOM_STATE = config.config['constants']['random_state']\n",
    "HEALTH_ZONES_N = config.config['constants']['health_zones_n']"
   ]
  },
  {
   "cell_type": "code",
   "execution_count": null,
   "metadata": {
    "scrolled": true
   },
   "outputs": [],
   "source": [
    "from modules.preprocessing import preprocessing\n",
    "import pandas as pd\n",
    "\n",
    "df = preprocessing(COVID_DATA, GEOMETRY, LAG_DAYS_PREPROCESS)"
   ]
  },
  {
   "cell_type": "code",
   "execution_count": null,
   "metadata": {},
   "outputs": [],
   "source": [
    "df.to_csv(PREPROCESSED)"
   ]
  },
  {
   "cell_type": "markdown",
   "metadata": {},
   "source": [
    "## Computation of the mobility based spatial weights"
   ]
  },
  {
   "cell_type": "code",
   "execution_count": null,
   "metadata": {},
   "outputs": [],
   "source": [
    "from modules import wts_computations\n",
    "\n",
    "df_wts = wts_computations.wts_computations(MOBILITY_DIR, CYL_COVID_PATH, LAG_DAYS_COMPUTATION)"
   ]
  },
  {
   "cell_type": "code",
   "execution_count": null,
   "metadata": {},
   "outputs": [],
   "source": [
    "df_wts.to_csv(COMPUTED)"
   ]
  },
  {
   "cell_type": "markdown",
   "metadata": {},
   "source": [
    "## Explore the data "
   ]
  },
  {
   "cell_type": "code",
   "execution_count": null,
   "metadata": {},
   "outputs": [],
   "source": [
    "import random\n",
    "import seaborn as sns\n",
    "from matplotlib import pyplot as plt\n",
    "\n",
    "df_wts['hz_code'] = df_wts['Unnamed: 0']\n",
    "code_to_name ={}\n",
    "name_to_code ={}\n",
    "\n",
    "for hz, n in zip(df_wts['hz_code'], df_wts['health_zone_name']):\n",
    "    code_to_name[hz] = n\n",
    "    name_to_code[n] = hz"
   ]
  },
  {
   "cell_type": "code",
   "execution_count": null,
   "metadata": {},
   "outputs": [],
   "source": [
    "##all healthzones\n",
    "health_zones = df_wts['hz_code'].unique()\n",
    "\n",
    "##random 10 health zones\n",
    "random.seed(RANDOM_STATE)\n",
    "health_zones_10 = random.sample(set(health_zones), HEALTH_ZONES_N)\n",
    "df_wt_10 = df_wts[df_wts['hz_code'].isin(health_zones_10)]\n",
    "\n",
    "palette = sns.color_palette(\"husl\", HEALTH_ZONES_N)\n",
    "sns.lineplot(data=df_wt_10, x='date1', y='weights', hue='hz_code', palette=palette)"
   ]
  }
 ],
 "metadata": {
  "kernelspec": {
   "display_name": "Python 3",
   "language": "python",
   "name": "python3"
  },
  "language_info": {
   "codemirror_mode": {
    "name": "ipython",
    "version": 3
   },
   "file_extension": ".py",
   "mimetype": "text/x-python",
   "name": "python",
   "nbconvert_exporter": "python",
   "pygments_lexer": "ipython3",
   "version": "3.6.9"
  }
 },
 "nbformat": 4,
 "nbformat_minor": 4
}
